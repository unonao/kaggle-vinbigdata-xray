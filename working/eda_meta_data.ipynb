{
 "cells": [
  {
   "cell_type": "code",
   "execution_count": 100,
   "metadata": {},
   "outputs": [],
   "source": [
    "import pandas as pd\n",
    "import numpy as np\n",
    "import os\n",
    "\n",
    "# Import seaborn\n",
    "import matplotlib.pyplot as plt\n",
    "import seaborn as sns\n",
    "\n",
    "# Apply the default theme\n",
    "sns.set_theme()\n",
    "\n",
    "%matplotlib inline"
   ]
  },
  {
   "cell_type": "code",
   "execution_count": 101,
   "metadata": {},
   "outputs": [],
   "source": [
    "MAIN_PATH = '../input/vinbigdata-chest-xray-abnormalities-detection/'\n",
    "train_df = pd.read_csv(os.path.join(MAIN_PATH,\"train.csv\"))\n",
    "TRAIN_META = \"../input/dicom-meta/train_meta.csv\""
   ]
  },
  {
   "cell_type": "code",
   "execution_count": 107,
   "metadata": {},
   "outputs": [
    {
     "data": {
      "text/html": [
       "<div>\n",
       "<style scoped>\n",
       "    .dataframe tbody tr th:only-of-type {\n",
       "        vertical-align: middle;\n",
       "    }\n",
       "\n",
       "    .dataframe tbody tr th {\n",
       "        vertical-align: top;\n",
       "    }\n",
       "\n",
       "    .dataframe thead th {\n",
       "        text-align: right;\n",
       "    }\n",
       "</style>\n",
       "<table border=\"1\" class=\"dataframe\">\n",
       "  <thead>\n",
       "    <tr style=\"text-align: right;\">\n",
       "      <th></th>\n",
       "      <th>image_id</th>\n",
       "      <th>label</th>\n",
       "      <th>BitsAllocated</th>\n",
       "      <th>BitsStored</th>\n",
       "      <th>Columns</th>\n",
       "      <th>HighBit</th>\n",
       "      <th>LossyImageCompression</th>\n",
       "      <th>PatientSex</th>\n",
       "      <th>PatientSize</th>\n",
       "      <th>PatientWeight</th>\n",
       "      <th>PhotometricInterpretation</th>\n",
       "      <th>PixelRepresentation</th>\n",
       "      <th>RescaleIntercept</th>\n",
       "      <th>RescaleSlope</th>\n",
       "      <th>Rows</th>\n",
       "      <th>SamplesPerPixel</th>\n",
       "      <th>WindowCenter</th>\n",
       "      <th>WindowWidth</th>\n",
       "      <th>NoError</th>\n",
       "      <th>PathToFolder</th>\n",
       "      <th>LossyImageCompressionMethod</th>\n",
       "      <th>NumberOfFrames</th>\n",
       "      <th>PatientAge</th>\n",
       "      <th>PixelSpacing0</th>\n",
       "      <th>PixelSpacing1</th>\n",
       "      <th>LossyImageCompressionRatio</th>\n",
       "      <th>LargestImagePixelValue</th>\n",
       "      <th>SmallestImagePixelValue</th>\n",
       "    </tr>\n",
       "  </thead>\n",
       "  <tbody>\n",
       "    <tr>\n",
       "      <th>0</th>\n",
       "      <td>000434271f63a053c4128a0ba6352c7f</td>\n",
       "      <td>1</td>\n",
       "      <td>16</td>\n",
       "      <td>12</td>\n",
       "      <td>2336</td>\n",
       "      <td>11</td>\n",
       "      <td>0.0</td>\n",
       "      <td>O</td>\n",
       "      <td>NaN</td>\n",
       "      <td>NaN</td>\n",
       "      <td>MONOCHROME1</td>\n",
       "      <td>0</td>\n",
       "      <td>0.0</td>\n",
       "      <td>1.0</td>\n",
       "      <td>2836</td>\n",
       "      <td>1</td>\n",
       "      <td>2047.0</td>\n",
       "      <td>4095.0</td>\n",
       "      <td>True</td>\n",
       "      <td>.</td>\n",
       "      <td>NaN</td>\n",
       "      <td>NaN</td>\n",
       "      <td>NaN</td>\n",
       "      <td>0.150</td>\n",
       "      <td>0.150</td>\n",
       "      <td>NaN</td>\n",
       "      <td>NaN</td>\n",
       "      <td>NaN</td>\n",
       "    </tr>\n",
       "    <tr>\n",
       "      <th>1</th>\n",
       "      <td>00053190460d56c53cc3e57321387478</td>\n",
       "      <td>1</td>\n",
       "      <td>16</td>\n",
       "      <td>12</td>\n",
       "      <td>1994</td>\n",
       "      <td>11</td>\n",
       "      <td>0.0</td>\n",
       "      <td>O</td>\n",
       "      <td>NaN</td>\n",
       "      <td>NaN</td>\n",
       "      <td>MONOCHROME2</td>\n",
       "      <td>0</td>\n",
       "      <td>0.0</td>\n",
       "      <td>1.0</td>\n",
       "      <td>2430</td>\n",
       "      <td>1</td>\n",
       "      <td>2047.0</td>\n",
       "      <td>4096.0</td>\n",
       "      <td>True</td>\n",
       "      <td>.</td>\n",
       "      <td>NaN</td>\n",
       "      <td>NaN</td>\n",
       "      <td>NaN</td>\n",
       "      <td>0.175</td>\n",
       "      <td>0.175</td>\n",
       "      <td>NaN</td>\n",
       "      <td>NaN</td>\n",
       "      <td>NaN</td>\n",
       "    </tr>\n",
       "    <tr>\n",
       "      <th>2</th>\n",
       "      <td>0005e8e3701dfb1dd93d53e2ff537b6e</td>\n",
       "      <td>0</td>\n",
       "      <td>16</td>\n",
       "      <td>14</td>\n",
       "      <td>3072</td>\n",
       "      <td>13</td>\n",
       "      <td>NaN</td>\n",
       "      <td>F</td>\n",
       "      <td>NaN</td>\n",
       "      <td>NaN</td>\n",
       "      <td>MONOCHROME2</td>\n",
       "      <td>0</td>\n",
       "      <td>NaN</td>\n",
       "      <td>NaN</td>\n",
       "      <td>3072</td>\n",
       "      <td>1</td>\n",
       "      <td>8483.0</td>\n",
       "      <td>11160.0</td>\n",
       "      <td>True</td>\n",
       "      <td>.</td>\n",
       "      <td>NaN</td>\n",
       "      <td>1.0</td>\n",
       "      <td>028Y</td>\n",
       "      <td>0.140</td>\n",
       "      <td>0.140</td>\n",
       "      <td>NaN</td>\n",
       "      <td>NaN</td>\n",
       "      <td>NaN</td>\n",
       "    </tr>\n",
       "    <tr>\n",
       "      <th>3</th>\n",
       "      <td>0006e0a85696f6bb578e84fafa9a5607</td>\n",
       "      <td>1</td>\n",
       "      <td>16</td>\n",
       "      <td>12</td>\n",
       "      <td>3000</td>\n",
       "      <td>11</td>\n",
       "      <td>0.0</td>\n",
       "      <td>F</td>\n",
       "      <td>0.0</td>\n",
       "      <td>0.0</td>\n",
       "      <td>MONOCHROME2</td>\n",
       "      <td>0</td>\n",
       "      <td>0.0</td>\n",
       "      <td>1.0</td>\n",
       "      <td>3000</td>\n",
       "      <td>1</td>\n",
       "      <td>2047.0</td>\n",
       "      <td>4095.0</td>\n",
       "      <td>True</td>\n",
       "      <td>.</td>\n",
       "      <td>NaN</td>\n",
       "      <td>NaN</td>\n",
       "      <td>NaN</td>\n",
       "      <td>NaN</td>\n",
       "      <td>NaN</td>\n",
       "      <td>NaN</td>\n",
       "      <td>NaN</td>\n",
       "      <td>NaN</td>\n",
       "    </tr>\n",
       "    <tr>\n",
       "      <th>4</th>\n",
       "      <td>0007d316f756b3fa0baea2ff514ce945</td>\n",
       "      <td>0</td>\n",
       "      <td>16</td>\n",
       "      <td>12</td>\n",
       "      <td>2304</td>\n",
       "      <td>11</td>\n",
       "      <td>0.0</td>\n",
       "      <td>M</td>\n",
       "      <td>NaN</td>\n",
       "      <td>NaN</td>\n",
       "      <td>MONOCHROME1</td>\n",
       "      <td>0</td>\n",
       "      <td>0.0</td>\n",
       "      <td>1.0</td>\n",
       "      <td>2880</td>\n",
       "      <td>1</td>\n",
       "      <td>2047.0</td>\n",
       "      <td>4095.0</td>\n",
       "      <td>True</td>\n",
       "      <td>.</td>\n",
       "      <td>NaN</td>\n",
       "      <td>NaN</td>\n",
       "      <td>NaN</td>\n",
       "      <td>0.150</td>\n",
       "      <td>0.150</td>\n",
       "      <td>NaN</td>\n",
       "      <td>NaN</td>\n",
       "      <td>NaN</td>\n",
       "    </tr>\n",
       "  </tbody>\n",
       "</table>\n",
       "</div>"
      ],
      "text/plain": [
       "                           image_id  label  BitsAllocated  BitsStored  \\\n",
       "0  000434271f63a053c4128a0ba6352c7f      1             16          12   \n",
       "1  00053190460d56c53cc3e57321387478      1             16          12   \n",
       "2  0005e8e3701dfb1dd93d53e2ff537b6e      0             16          14   \n",
       "3  0006e0a85696f6bb578e84fafa9a5607      1             16          12   \n",
       "4  0007d316f756b3fa0baea2ff514ce945      0             16          12   \n",
       "\n",
       "   Columns  HighBit  LossyImageCompression PatientSex  PatientSize  \\\n",
       "0     2336       11                    0.0          O          NaN   \n",
       "1     1994       11                    0.0          O          NaN   \n",
       "2     3072       13                    NaN          F          NaN   \n",
       "3     3000       11                    0.0          F          0.0   \n",
       "4     2304       11                    0.0          M          NaN   \n",
       "\n",
       "   PatientWeight PhotometricInterpretation  PixelRepresentation  \\\n",
       "0            NaN               MONOCHROME1                    0   \n",
       "1            NaN               MONOCHROME2                    0   \n",
       "2            NaN               MONOCHROME2                    0   \n",
       "3            0.0               MONOCHROME2                    0   \n",
       "4            NaN               MONOCHROME1                    0   \n",
       "\n",
       "   RescaleIntercept  RescaleSlope  Rows  SamplesPerPixel  WindowCenter  \\\n",
       "0               0.0           1.0  2836                1        2047.0   \n",
       "1               0.0           1.0  2430                1        2047.0   \n",
       "2               NaN           NaN  3072                1        8483.0   \n",
       "3               0.0           1.0  3000                1        2047.0   \n",
       "4               0.0           1.0  2880                1        2047.0   \n",
       "\n",
       "   WindowWidth  NoError PathToFolder  LossyImageCompressionMethod  \\\n",
       "0       4095.0     True            .                          NaN   \n",
       "1       4096.0     True            .                          NaN   \n",
       "2      11160.0     True            .                          NaN   \n",
       "3       4095.0     True            .                          NaN   \n",
       "4       4095.0     True            .                          NaN   \n",
       "\n",
       "   NumberOfFrames PatientAge  PixelSpacing0  PixelSpacing1  \\\n",
       "0             NaN        NaN          0.150          0.150   \n",
       "1             NaN        NaN          0.175          0.175   \n",
       "2             1.0       028Y          0.140          0.140   \n",
       "3             NaN        NaN            NaN            NaN   \n",
       "4             NaN        NaN          0.150          0.150   \n",
       "\n",
       "   LossyImageCompressionRatio  LargestImagePixelValue  SmallestImagePixelValue  \n",
       "0                         NaN                     NaN                      NaN  \n",
       "1                         NaN                     NaN                      NaN  \n",
       "2                         NaN                     NaN                      NaN  \n",
       "3                         NaN                     NaN                      NaN  \n",
       "4                         NaN                     NaN                      NaN  "
      ]
     },
     "execution_count": 107,
     "metadata": {},
     "output_type": "execute_result"
    }
   ],
   "source": [
    "def load_train_df():\n",
    "    path = os.path.join(MAIN_PATH,\"train.csv\")\n",
    "    train_df = pd.read_csv(path)\n",
    "    is_normal_df = train_df.groupby(\"image_id\")[\"class_id\"].agg(lambda s: (s == 14).sum()).reset_index().rename({\"class_id\": \"num_normal_annotations\"}, axis=1)\n",
    "    is_normal_df[\"label\"] = (is_normal_df[\"num_normal_annotations\"] == 3).astype(int)  # 3人とも異常なしを1とする\n",
    "    # meta情報を結合\n",
    "    meta = pd.read_csv(TRAIN_META)\n",
    "    meta[\"image_id\"] = meta[\"FileName\"].str.replace('.dicom', '')\n",
    "    meta = meta.drop([\"FileName\"], axis=1)\n",
    "    is_normal_df = is_normal_df[[\"image_id\", \"label\"]].merge(meta, how=\"left\", on=\"image_id\")\n",
    "    return is_normal_df\n",
    "df = load_train_df()\n",
    "df.head()"
   ]
  },
  {
   "cell_type": "code",
   "execution_count": 108,
   "metadata": {},
   "outputs": [
    {
     "data": {
      "text/plain": [
       "<seaborn.axisgrid.JointGrid at 0x7f25d19d6550>"
      ]
     },
     "execution_count": 108,
     "metadata": {},
     "output_type": "execute_result"
    },
    {
     "data": {
      "image/png": "[encoded data removed]",
      "text/plain": [
       "<Figure size 432x432 with 3 Axes>"
      ]
     },
     "metadata": {
      "needs_background": "light"
     },
     "output_type": "display_data"
    }
   ],
   "source": [
    "sns.jointplot(data=df, x=\"WindowCenter\", y=\"WindowWidth\", hue=\"label\")"
   ]
  },
  {
   "cell_type": "code",
   "execution_count": 109,
   "metadata": {},
   "outputs": [
    {
     "data": {
      "text/plain": [
       "<seaborn.axisgrid.JointGrid at 0x7f25d10040d0>"
      ]
     },
     "execution_count": 109,
     "metadata": {},
     "output_type": "execute_result"
    },
    {
     "data": {
      "image/png": "[encoded data removed]",
      "text/plain": [
       "<Figure size 432x432 with 3 Axes>"
      ]
     },
     "metadata": {
      "needs_background": "light"
     },
     "output_type": "display_data"
    }
   ],
   "source": [
    "df[\"PixelSpacing1\"] = df[\"PixelSpacing1\"].fillna(1.)\n",
    "df[\"PixelSpacing0\"] = df[\"PixelSpacing0\"].fillna(1.)\n",
    "sns.jointplot(data=df, x=\"PixelSpacing0\", y=\"PixelSpacing1\", hue=\"label\")"
   ]
  },
  {
   "cell_type": "code",
   "execution_count": null,
   "metadata": {},
   "outputs": [],
   "source": []
  },
  {
   "cell_type": "code",
   "execution_count": 110,
   "metadata": {},
   "outputs": [
    {
     "data": {
      "text/plain": [
       "<seaborn.axisgrid.FacetGrid at 0x7f25d07f7fd0>"
      ]
     },
     "execution_count": 110,
     "metadata": {},
     "output_type": "execute_result"
    },
    {
     "data": {
      "image/png": "[encoded data removed]",
      "text/plain": [
       "<Figure size 406.6x360 with 1 Axes>"
      ]
     },
     "metadata": {
      "needs_background": "light"
     },
     "output_type": "display_data"
    }
   ],
   "source": [
    "sns.displot(df, x=\"PixelSpacing0\", hue=\"label\")"
   ]
  },
  {
   "cell_type": "code",
   "execution_count": 111,
   "metadata": {},
   "outputs": [
    {
     "data": {
      "text/plain": [
       "<AxesSubplot:xlabel='PatientSex', ylabel='count'>"
      ]
     },
     "execution_count": 111,
     "metadata": {},
     "output_type": "execute_result"
    },
    {
     "data": {
      "image/png": "[encoded data removed]",
      "text/plain": [
       "<Figure size 432x288 with 1 Axes>"
      ]
     },
     "metadata": {
      "needs_background": "light"
     },
     "output_type": "display_data"
    }
   ],
   "source": [
    "df[\"PatientSex\"] = df[\"PatientSex\"].fillna(\"no\")\n",
    "sns.countplot(x=\"PatientSex\", hue=\"label\", data=df)"
   ]
  },
  {
   "cell_type": "code",
   "execution_count": 117,
   "metadata": {},
   "outputs": [
    {
     "data": {
      "text/html": [
       "<div>\n",
       "<style scoped>\n",
       "    .dataframe tbody tr th:only-of-type {\n",
       "        vertical-align: middle;\n",
       "    }\n",
       "\n",
       "    .dataframe tbody tr th {\n",
       "        vertical-align: top;\n",
       "    }\n",
       "\n",
       "    .dataframe thead th {\n",
       "        text-align: right;\n",
       "    }\n",
       "</style>\n",
       "<table border=\"1\" class=\"dataframe\">\n",
       "  <thead>\n",
       "    <tr style=\"text-align: right;\">\n",
       "      <th></th>\n",
       "      <th></th>\n",
       "      <th></th>\n",
       "      <th>PixelSpacing0</th>\n",
       "      <th>PixelSpacing1</th>\n",
       "    </tr>\n",
       "    <tr>\n",
       "      <th>PatientSex</th>\n",
       "      <th>PixelSpacing0_no</th>\n",
       "      <th>label</th>\n",
       "      <th></th>\n",
       "      <th></th>\n",
       "    </tr>\n",
       "  </thead>\n",
       "  <tbody>\n",
       "    <tr>\n",
       "      <th rowspan=\"4\" valign=\"top\">F</th>\n",
       "      <th rowspan=\"2\" valign=\"top\">0</th>\n",
       "      <th>0</th>\n",
       "      <td>1161</td>\n",
       "      <td>1161</td>\n",
       "    </tr>\n",
       "    <tr>\n",
       "      <th>1</th>\n",
       "      <td>1061</td>\n",
       "      <td>1061</td>\n",
       "    </tr>\n",
       "    <tr>\n",
       "      <th rowspan=\"2\" valign=\"top\">1</th>\n",
       "      <th>0</th>\n",
       "      <td>775</td>\n",
       "      <td>775</td>\n",
       "    </tr>\n",
       "    <tr>\n",
       "      <th>1</th>\n",
       "      <td>517</td>\n",
       "      <td>517</td>\n",
       "    </tr>\n",
       "    <tr>\n",
       "      <th rowspan=\"4\" valign=\"top\">M</th>\n",
       "      <th rowspan=\"2\" valign=\"top\">0</th>\n",
       "      <th>0</th>\n",
       "      <td>1303</td>\n",
       "      <td>1303</td>\n",
       "    </tr>\n",
       "    <tr>\n",
       "      <th>1</th>\n",
       "      <td>1851</td>\n",
       "      <td>1851</td>\n",
       "    </tr>\n",
       "    <tr>\n",
       "      <th rowspan=\"2\" valign=\"top\">1</th>\n",
       "      <th>0</th>\n",
       "      <td>635</td>\n",
       "      <td>635</td>\n",
       "    </tr>\n",
       "    <tr>\n",
       "      <th>1</th>\n",
       "      <td>51</td>\n",
       "      <td>51</td>\n",
       "    </tr>\n",
       "    <tr>\n",
       "      <th rowspan=\"4\" valign=\"top\">O</th>\n",
       "      <th rowspan=\"2\" valign=\"top\">0</th>\n",
       "      <th>0</th>\n",
       "      <td>429</td>\n",
       "      <td>429</td>\n",
       "    </tr>\n",
       "    <tr>\n",
       "      <th>1</th>\n",
       "      <td>4607</td>\n",
       "      <td>4607</td>\n",
       "    </tr>\n",
       "    <tr>\n",
       "      <th rowspan=\"2\" valign=\"top\">1</th>\n",
       "      <th>0</th>\n",
       "      <td>11</td>\n",
       "      <td>11</td>\n",
       "    </tr>\n",
       "    <tr>\n",
       "      <th>1</th>\n",
       "      <td>98</td>\n",
       "      <td>98</td>\n",
       "    </tr>\n",
       "    <tr>\n",
       "      <th rowspan=\"3\" valign=\"top\">no</th>\n",
       "      <th>0</th>\n",
       "      <th>1</th>\n",
       "      <td>2420</td>\n",
       "      <td>2420</td>\n",
       "    </tr>\n",
       "    <tr>\n",
       "      <th rowspan=\"2\" valign=\"top\">1</th>\n",
       "      <th>0</th>\n",
       "      <td>80</td>\n",
       "      <td>80</td>\n",
       "    </tr>\n",
       "    <tr>\n",
       "      <th>1</th>\n",
       "      <td>1</td>\n",
       "      <td>1</td>\n",
       "    </tr>\n",
       "  </tbody>\n",
       "</table>\n",
       "</div>"
      ],
      "text/plain": [
       "                                   PixelSpacing0  PixelSpacing1\n",
       "PatientSex PixelSpacing0_no label                              \n",
       "F          0                0               1161           1161\n",
       "                            1               1061           1061\n",
       "           1                0                775            775\n",
       "                            1                517            517\n",
       "M          0                0               1303           1303\n",
       "                            1               1851           1851\n",
       "           1                0                635            635\n",
       "                            1                 51             51\n",
       "O          0                0                429            429\n",
       "                            1               4607           4607\n",
       "           1                0                 11             11\n",
       "                            1                 98             98\n",
       "no         0                1               2420           2420\n",
       "           1                0                 80             80\n",
       "                            1                  1              1"
      ]
     },
     "execution_count": 117,
     "metadata": {},
     "output_type": "execute_result"
    }
   ],
   "source": [
    "df[\"PixelSpacing0_no\"] = (df[\"PixelSpacing0\"]==1.0).astype(int)\n",
    "df[['PatientSex', 'PixelSpacing0_no','label','PixelSpacing0','PixelSpacing1']].groupby(['PatientSex', 'PixelSpacing0_no','label']).count()"
   ]
  },
  {
   "cell_type": "code",
   "execution_count": null,
   "metadata": {},
   "outputs": [],
   "source": []
  },
  {
   "cell_type": "code",
   "execution_count": null,
   "metadata": {},
   "outputs": [],
   "source": []
  },
  {
   "cell_type": "code",
   "execution_count": 118,
   "metadata": {},
   "outputs": [
    {
     "data": {
      "text/plain": [
       "rad_id\n",
       "R9     15708\n",
       "R10    13292\n",
       "R8     12198\n",
       "R2      3121\n",
       "R5      2783\n",
       "R3      2285\n",
       "R6      2041\n",
       "R1      1995\n",
       "R13     1824\n",
       "R15     1823\n",
       "R16     1763\n",
       "R7      1733\n",
       "R12     1729\n",
       "R11     1670\n",
       "R14     1624\n",
       "R4      1513\n",
       "R17      812\n",
       "dtype: int64"
      ]
     },
     "execution_count": 118,
     "metadata": {},
     "output_type": "execute_result"
    }
   ],
   "source": [
    "train_df.value_counts(\"rad_id\")"
   ]
  },
  {
   "cell_type": "code",
   "execution_count": 119,
   "metadata": {},
   "outputs": [
    {
     "data": {
      "text/html": [
       "<div>\n",
       "<style scoped>\n",
       "    .dataframe tbody tr th:only-of-type {\n",
       "        vertical-align: middle;\n",
       "    }\n",
       "\n",
       "    .dataframe tbody tr th {\n",
       "        vertical-align: top;\n",
       "    }\n",
       "\n",
       "    .dataframe thead th {\n",
       "        text-align: right;\n",
       "    }\n",
       "</style>\n",
       "<table border=\"1\" class=\"dataframe\">\n",
       "  <thead>\n",
       "    <tr style=\"text-align: right;\">\n",
       "      <th></th>\n",
       "      <th>image_id</th>\n",
       "      <th>rad_id</th>\n",
       "    </tr>\n",
       "  </thead>\n",
       "  <tbody>\n",
       "    <tr>\n",
       "      <th>0</th>\n",
       "      <td>000434271f63a053c4128a0ba6352c7f</td>\n",
       "      <td>R2R3R6</td>\n",
       "    </tr>\n",
       "    <tr>\n",
       "      <th>1</th>\n",
       "      <td>00053190460d56c53cc3e57321387478</td>\n",
       "      <td>R11R2R7</td>\n",
       "    </tr>\n",
       "    <tr>\n",
       "      <th>2</th>\n",
       "      <td>0005e8e3701dfb1dd93d53e2ff537b6e</td>\n",
       "      <td>R10R8R9</td>\n",
       "    </tr>\n",
       "    <tr>\n",
       "      <th>3</th>\n",
       "      <td>0006e0a85696f6bb578e84fafa9a5607</td>\n",
       "      <td>R11R12R16</td>\n",
       "    </tr>\n",
       "    <tr>\n",
       "      <th>4</th>\n",
       "      <td>0007d316f756b3fa0baea2ff514ce945</td>\n",
       "      <td>R10R8R9</td>\n",
       "    </tr>\n",
       "    <tr>\n",
       "      <th>...</th>\n",
       "      <td>...</td>\n",
       "      <td>...</td>\n",
       "    </tr>\n",
       "    <tr>\n",
       "      <th>14995</th>\n",
       "      <td>ffe6f9fe648a7ec29a50feb92d6c15a4</td>\n",
       "      <td>R10R8R9</td>\n",
       "    </tr>\n",
       "    <tr>\n",
       "      <th>14996</th>\n",
       "      <td>ffea246f04196af602c7dc123e5e48fc</td>\n",
       "      <td>R13R4R6</td>\n",
       "    </tr>\n",
       "    <tr>\n",
       "      <th>14997</th>\n",
       "      <td>ffeffc54594debf3716d6fcd2402a99f</td>\n",
       "      <td>R10R8R9</td>\n",
       "    </tr>\n",
       "    <tr>\n",
       "      <th>14998</th>\n",
       "      <td>fff0f82159f9083f3dd1f8967fc54f6a</td>\n",
       "      <td>R14R8R9</td>\n",
       "    </tr>\n",
       "    <tr>\n",
       "      <th>14999</th>\n",
       "      <td>fff2025e3c1d6970a8a6ee0404ac6940</td>\n",
       "      <td>R1R2R5</td>\n",
       "    </tr>\n",
       "  </tbody>\n",
       "</table>\n",
       "<p>15000 rows × 2 columns</p>\n",
       "</div>"
      ],
      "text/plain": [
       "                               image_id     rad_id\n",
       "0      000434271f63a053c4128a0ba6352c7f     R2R3R6\n",
       "1      00053190460d56c53cc3e57321387478    R11R2R7\n",
       "2      0005e8e3701dfb1dd93d53e2ff537b6e    R10R8R9\n",
       "3      0006e0a85696f6bb578e84fafa9a5607  R11R12R16\n",
       "4      0007d316f756b3fa0baea2ff514ce945    R10R8R9\n",
       "...                                 ...        ...\n",
       "14995  ffe6f9fe648a7ec29a50feb92d6c15a4    R10R8R9\n",
       "14996  ffea246f04196af602c7dc123e5e48fc    R13R4R6\n",
       "14997  ffeffc54594debf3716d6fcd2402a99f    R10R8R9\n",
       "14998  fff0f82159f9083f3dd1f8967fc54f6a    R14R8R9\n",
       "14999  fff2025e3c1d6970a8a6ee0404ac6940     R1R2R5\n",
       "\n",
       "[15000 rows x 2 columns]"
      ]
     },
     "execution_count": 119,
     "metadata": {},
     "output_type": "execute_result"
    }
   ],
   "source": [
    "rad_df = train_df.groupby(\"image_id\")[\"rad_id\"].agg(lambda s: \"\".join(s.sort_values().unique())).reset_index()\n",
    "rad_df"
   ]
  },
  {
   "cell_type": "code",
   "execution_count": 120,
   "metadata": {},
   "outputs": [
    {
     "data": {
      "text/plain": [
       "rad_id\n",
       "R10R8R9      5501\n",
       "R2R3R5        115\n",
       "R1R2R3        104\n",
       "R2R3R6        100\n",
       "R12R13R16      99\n",
       "             ... \n",
       "R15R17R8        1\n",
       "R10R17R4        1\n",
       "R10R16R9        1\n",
       "R15R17R9        1\n",
       "R11R17R4        1\n",
       "Length: 411, dtype: int64"
      ]
     },
     "execution_count": 120,
     "metadata": {},
     "output_type": "execute_result"
    }
   ],
   "source": [
    "rad_df.value_counts(\"rad_id\")"
   ]
  },
  {
   "cell_type": "code",
   "execution_count": null,
   "metadata": {},
   "outputs": [],
   "source": []
  },
  {
   "cell_type": "markdown",
   "metadata": {},
   "source": [
    "# meta data"
   ]
  },
  {
   "cell_type": "code",
   "execution_count": null,
   "metadata": {},
   "outputs": [],
   "source": [
    "train_meta = pd.read_csv(\"../input/dicom-meta/train_meta.csv\")\n",
    "test_meta = pd.read_csv(\"../input/dicom-meta/test_meta.csv\")"
   ]
  },
  {
   "cell_type": "code",
   "execution_count": null,
   "metadata": {},
   "outputs": [],
   "source": [
    "pd.set_option('display.max_columns', None)\n",
    "train_meta.head()"
   ]
  },
  {
   "cell_type": "code",
   "execution_count": null,
   "metadata": {},
   "outputs": [],
   "source": [
    "train_meta.info()"
   ]
  },
  {
   "cell_type": "code",
   "execution_count": null,
   "metadata": {},
   "outputs": [],
   "source": [
    "train_meta.value_counts(\"PatientSex\")"
   ]
  },
  {
   "cell_type": "code",
   "execution_count": null,
   "metadata": {},
   "outputs": [],
   "source": [
    "train_meta.value_counts(\"WindowCenter\")"
   ]
  },
  {
   "cell_type": "code",
   "execution_count": null,
   "metadata": {},
   "outputs": [],
   "source": [
    "train_meta.value_counts(\"WindowWidth\")"
   ]
  },
  {
   "cell_type": "code",
   "execution_count": null,
   "metadata": {},
   "outputs": [],
   "source": [
    "train_meta.value_counts(\"NumberOfFrames\")"
   ]
  },
  {
   "cell_type": "code",
   "execution_count": null,
   "metadata": {},
   "outputs": [],
   "source": [
    "train_meta.value_counts(\"NumberOfFrames\")"
   ]
  },
  {
   "cell_type": "code",
   "execution_count": null,
   "metadata": {},
   "outputs": [],
   "source": []
  }
 ],
 "metadata": {
  "kernelspec": {
   "display_name": "Python 3",
   "language": "python",
   "name": "python3"
  },
  "language_info": {
   "codemirror_mode": {
    "name": "ipython",
    "version": 3
   },
   "file_extension": ".py",
   "mimetype": "text/x-python",
   "name": "python",
   "nbconvert_exporter": "python",
   "pygments_lexer": "ipython3",
   "version": "3.7.6"
  }
 },
 "nbformat": 4,
 "nbformat_minor": 4
}
