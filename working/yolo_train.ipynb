{
 "cells": [
  {
   "cell_type": "code",
   "execution_count": null,
   "metadata": {},
   "outputs": [],
   "source": [
    "\"\"\"\n",
    "!git clone https://github.com/ultralytics/yolov5\n",
    "%pip install pycocotools -qr yolov5/requirements.txt  # install dependencies\n",
    "!pip install GPUtil\n",
    "\"\"\""
   ]
  },
  {
   "cell_type": "code",
   "execution_count": 1,
   "metadata": {},
   "outputs": [
    {
     "name": "stdout",
     "output_type": "stream",
     "text": [
      "\u001b[34m\u001b[1mwandb\u001b[0m: Appending key for api.wandb.ai to your netrc file: /root/.netrc\n"
     ]
    }
   ],
   "source": [
    "!wandb login 095094adaf331ede4246560053f1a391b197c03c"
   ]
  },
  {
   "cell_type": "code",
   "execution_count": 2,
   "metadata": {},
   "outputs": [],
   "source": [
    "config_file = \"config/original_1024_x.json\"\n",
    "\n",
    "IS_TEST = True"
   ]
  },
  {
   "cell_type": "code",
   "execution_count": 3,
   "metadata": {},
   "outputs": [
    {
     "name": "stdout",
     "output_type": "stream",
     "text": [
      "Initial GPU Usage\n",
      "| ID | GPU | MEM |\n",
      "------------------\n",
      "|  0 |  0% |  2% |\n",
      "GPU Usage after emptying the cache\n",
      "| ID | GPU | MEM |\n",
      "------------------\n",
      "|  0 |  0% |  3% |\n"
     ]
    }
   ],
   "source": [
    "import json\n",
    "import os\n",
    "import datetime\n",
    "import yaml\n",
    "from tqdm.notebook import tqdm\n",
    "from glob import glob\n",
    "import numpy as np \n",
    "import pandas as pd\n",
    "\n",
    "CFG = json.load(open(config_file))\n",
    "config_filename = os.path.splitext(os.path.basename(config_file))[0]\n",
    "\n",
    "import torch\n",
    "from GPUtil import showUtilization as gpu_usage\n",
    "from numba import cuda\n",
    "\n",
    "def free_gpu_cache():\n",
    "    print(\"Initial GPU Usage\")\n",
    "    gpu_usage()                             \n",
    "\n",
    "    torch.cuda.empty_cache()\n",
    "\n",
    "    cuda.select_device(0)\n",
    "    cuda.close()\n",
    "    cuda.select_device(0)\n",
    "\n",
    "    print(\"GPU Usage after emptying the cache\")\n",
    "    gpu_usage()\n",
    "free_gpu_cache()"
   ]
  },
  {
   "cell_type": "code",
   "execution_count": 4,
   "metadata": {},
   "outputs": [],
   "source": [
    "os.chdir('yolov5')"
   ]
  },
  {
   "cell_type": "code",
   "execution_count": null,
   "metadata": {},
   "outputs": [
    {
     "name": "stdout",
     "output_type": "stream",
     "text": [
      "Initial GPU Usage\n",
      "| ID | GPU | MEM |\n",
      "------------------\n",
      "|  0 |  1% |  3% |\n",
      "GPU Usage after emptying the cache\n",
      "| ID | GPU | MEM |\n",
      "------------------\n",
      "|  0 |  1% |  3% |\n",
      "\u001b[34m\u001b[1mgithub: \u001b[0mup to date with https://github.com/ultralytics/yolov5 ✅\n",
      "2021-03-20 23:58:36.977121: I tensorflow/stream_executor/platform/default/dso_loader.cc:48] Successfully opened dynamic library libcudart.so.10.2\n",
      "\u001b[34m\u001b[1mwandb\u001b[0m: Currently logged in as: \u001b[33mkami\u001b[0m (use `wandb login --relogin` to force relogin)\n",
      "2021-03-20 23:58:42.148960: I tensorflow/stream_executor/platform/default/dso_loader.cc:48] Successfully opened dynamic library libcudart.so.10.2\n",
      "2021-03-20 23:58:42.151684: I tensorflow/stream_executor/platform/default/dso_loader.cc:48] Successfully opened dynamic library libcudart.so.10.2\n",
      "\u001b[34m\u001b[1mwandb\u001b[0m: Tracking run with wandb version 0.10.22\n",
      "\u001b[34m\u001b[1mwandb\u001b[0m: Syncing run \u001b[33moriginal_1024_x_0\u001b[0m\n",
      "\u001b[34m\u001b[1mwandb\u001b[0m: ⭐️ View project at \u001b[34m\u001b[4mhttps://wandb.ai/kami/YOLOv5\u001b[0m\n",
      "\u001b[34m\u001b[1mwandb\u001b[0m: 🚀 View run at \u001b[34m\u001b[4mhttps://wandb.ai/kami/YOLOv5/runs/53zr946e\u001b[0m\n",
      "\u001b[34m\u001b[1mwandb\u001b[0m: Run data is saved locally in /home/kaggle-vinbigdata-xray/working/yolov5/wandb/run-20210320_235840-53zr946e\n",
      "\u001b[34m\u001b[1mwandb\u001b[0m: Run `wandb offline` to turn off syncing.\n",
      "\n",
      "\u001b[34m\u001b[1mtrain: \u001b[0mScanning '/home/kaggle-vinbigdata-xray/working/chest_yolo/original_1024_x/train_list_fold_0.cache' images and labels... 3014 found, 0 missing, 2121 empty, 0 corrupted: 100%|██████████| 3014/3014 [00:00<00:00, 33621362.38it/s]\n",
      "\u001b[34m\u001b[1mval: \u001b[0mScanning '/home/kaggle-vinbigdata-xray/working/chest_yolo/original_1024_x/val_list_fold_0.cache' images and labels... 11986 found, 0 missing, 8485 empty, 0 corrupted: 100%|██████████| 11986/11986 [00:00<00:00, 88978633.18it/s]\n",
      "Plotting labels... \n",
      "\n",
      "\u001b[34m\u001b[1mautoanchor: \u001b[0mAnalyzing anchors... anchors/target = 4.64, Best Possible Recall (BPR) = 1.0000\n",
      "      0/39      7.7G   0.07231   0.02664   0.05145    0.1504         0      1024: 100%|██████████| 754/754 [05:53<00:00,  2.13it/s]\n",
      "               Class      Images      Labels           P           R      mAP@.5  mAP@.5:.95: 100%|██████████| 1499/1499 [06:29<00:00,  3.85it/s]\n",
      "                 all       11986       19152        0.66       0.027      0.0168     0.00435\n",
      "      1/39     9.92G   0.06264   0.02011   0.03493    0.1177         0      1024: 100%|██████████| 754/754 [05:40<00:00,  2.21it/s]\n",
      "               Class      Images      Labels           P           R      mAP@.5  mAP@.5:.95: 100%|██████████| 1499/1499 [06:28<00:00,  3.86it/s]\n",
      "                 all       11986       19152       0.946       0.037      0.0214     0.00735\n",
      "      2/39     9.94G   0.06008   0.01867   0.03176    0.1105         0      1024: 100%|██████████| 754/754 [05:38<00:00,  2.23it/s]\n",
      "               Class      Images      Labels           P           R      mAP@.5  mAP@.5:.95: 100%|██████████| 1499/1499 [06:28<00:00,  3.86it/s]\n",
      "                 all       11986       19152       0.893      0.0619      0.0353      0.0106\n",
      "      3/39     9.94G    0.0571   0.01861   0.02945    0.1052         0      1024: 100%|██████████| 754/754 [05:38<00:00,  2.23it/s]\n",
      "               Class      Images      Labels           P           R      mAP@.5  mAP@.5:.95: 100%|██████████| 1499/1499 [06:30<00:00,  3.84it/s]\n",
      "                 all       11986       19152        0.89      0.0887      0.0569       0.018\n",
      "      4/39     9.94G   0.05479   0.01913   0.02833    0.1022         4      1024: 100%|██████████| 754/754 [05:38<00:00,  2.23it/s]\n",
      "               Class      Images      Labels           P           R      mAP@.5  mAP@.5:.95: 100%|██████████| 1499/1499 [06:31<00:00,  3.83it/s]\n",
      "                 all       11986       19152       0.908      0.0832      0.0635       0.025\n",
      "      5/39     9.94G   0.05294   0.01788   0.02711   0.09793         8      1024:   3%|▎         | 26/754 [00:11<05:26,  2.23it/s]"
     ]
    }
   ],
   "source": [
    "for fold in range(CFG[\"fold_num\"]):\n",
    "    if fold==1 and IS_TEST==True:\n",
    "        break\n",
    "    exp_name = f'{config_filename}_{fold}'\n",
    "    hyp_conf_file = f'../chest_yolo/{CFG[\"hyp_conf\"]}.yaml'\n",
    "    data_file = f\"../chest_yolo/{config_filename}/yolo_{fold}.yaml\"\n",
    "\n",
    "    epochs = CFG[\"epochs\"]\n",
    "    bach_size = CFG[\"bach_size\"]\n",
    "    weights  = CFG[\"weights\"]\n",
    "    dim = CFG[\"dim\"]\n",
    "    \n",
    "    free_gpu_cache()\n",
    "        \n",
    "    !python train.py \\\n",
    "     --epochs $epochs \\\n",
    "     --batch-size $bach_size \\\n",
    "     --hyp $hyp_conf_file \\\n",
    "     --data $data_file \\\n",
    "     --weights $weights \\\n",
    "     --img $dim \\\n",
    "     --name $exp_name\n",
    "      "
   ]
  },
  {
   "cell_type": "code",
   "execution_count": null,
   "metadata": {},
   "outputs": [],
   "source": [
    "os.chdir('..')"
   ]
  },
  {
   "cell_type": "code",
   "execution_count": null,
   "metadata": {},
   "outputs": [],
   "source": []
  },
  {
   "cell_type": "code",
   "execution_count": null,
   "metadata": {},
   "outputs": [],
   "source": []
  },
  {
   "cell_type": "code",
   "execution_count": null,
   "metadata": {
    "scrolled": true
   },
   "outputs": [],
   "source": [
    "for fold in range(CFG[\"fold_num\"]):\n",
    "    if fold==1 and IS_TEST==True:\n",
    "        break\n",
    "    exp_name = f'{config_filename}_{fold}'\n",
    "    weights = f'runs/train/{exp_name}/weights/best.pt'\n",
    "    TEST_PATH = f'../../input/vinbigdata-chest-xray-resized-png-{CFG[\"dim\"]}x{CFG[\"dim\"]}{CFG[\"way\"]}/test'\n",
    "\n",
    "    !python detect.py --weights $weights \\\n",
    "    --img-size 512 --conf-thres 0.005 \\\n",
    "    --source $TEST_PATH --iou-thres 0.45 \\\n",
    "    --save-txt --save-conf \\\n",
    "    --name $exp_name"
   ]
  },
  {
   "cell_type": "code",
   "execution_count": null,
   "metadata": {},
   "outputs": [],
   "source": [
    "def yolo2voc(image_height, image_width, bboxes):\n",
    "    \"\"\"\n",
    "    yolo => [xmid, ymid, w, h] (normalized)\n",
    "    voc  => [x1, y1, x2, y1]\n",
    "    \n",
    "    \"\"\" \n",
    "    bboxes = bboxes.copy().astype(float) # otherwise all value will be 0 as voc_pascal dtype is np.int\n",
    "    \n",
    "    bboxes[..., [0, 2]] = bboxes[..., [0, 2]]* image_width\n",
    "    bboxes[..., [1, 3]] = bboxes[..., [1, 3]]* image_height\n",
    "    \n",
    "    bboxes[..., [0, 1]] = bboxes[..., [0, 1]] - bboxes[..., [2, 3]]/2\n",
    "    bboxes[..., [2, 3]] = bboxes[..., [0, 1]] + bboxes[..., [2, 3]]\n",
    "    \n",
    "    return bboxes"
   ]
  },
  {
   "cell_type": "code",
   "execution_count": null,
   "metadata": {},
   "outputs": [],
   "source": [
    "for fold in range(CFG[\"fold_num\"]):\n",
    "    if fold==1 and IS_TEST==True:\n",
    "        break\n",
    "    test_df = pd.read_csv(f'../input/test.csv')\n",
    "    exp_name = f'{config_filename}_{fold}'\n",
    "    detect_path = f'yolov5/runs/detect/{exp_name}/labels/*txt'\n",
    "    \n",
    "\n",
    "    image_ids = []\n",
    "    PredictionStrings = []\n",
    "\n",
    "    for file_path in tqdm(glob(detect_path)):\n",
    "        image_id = file_path.split('/')[-1].split('.')[0]\n",
    "        w, h = test_df.loc[test_df.image_id==image_id,['width', 'height']].values[0]\n",
    "        f = open(file_path, 'r')\n",
    "        data = np.array(f.read().replace('\\n', ' ').strip().split(' ')).astype(np.float32).reshape(-1, 6)\n",
    "        data = data[:, [0, 5, 1, 2, 3, 4]]\n",
    "        bboxes = list(np.round(np.concatenate((data[:, :2], np.round(yolo2voc(h, w, data[:, 2:]))), axis =1).reshape(-1), 1).astype(str))\n",
    "        for idx in range(len(bboxes)):\n",
    "            bboxes[idx] = str(int(float(bboxes[idx]))) if idx%6!=1 else bboxes[idx]\n",
    "        image_ids.append(image_id)\n",
    "        PredictionStrings.append(' '.join(bboxes))\n",
    "\n",
    "    pred_df = pd.DataFrame({'image_id':image_ids,\n",
    "                            'PredictionString':PredictionStrings})\n",
    "    sub_df = pd.merge(test_df, pred_df, on = 'image_id', how = 'left').fillna(\"14 1 0 0 1 1\")\n",
    "    sub_df = sub_df[['image_id', 'PredictionString']]\n",
    "    sub_df.to_csv(f'output/{exp_name}_sub.csv',index = False)"
   ]
  },
  {
   "cell_type": "code",
   "execution_count": null,
   "metadata": {},
   "outputs": [],
   "source": []
  },
  {
   "cell_type": "code",
   "execution_count": null,
   "metadata": {},
   "outputs": [],
   "source": []
  }
 ],
 "metadata": {
  "kernelspec": {
   "display_name": "Python 3",
   "language": "python",
   "name": "python3"
  },
  "language_info": {
   "codemirror_mode": {
    "name": "ipython",
    "version": 3
   },
   "file_extension": ".py",
   "mimetype": "text/x-python",
   "name": "python",
   "nbconvert_exporter": "python",
   "pygments_lexer": "ipython3",
   "version": "3.7.6"
  }
 },
 "nbformat": 4,
 "nbformat_minor": 4
}
